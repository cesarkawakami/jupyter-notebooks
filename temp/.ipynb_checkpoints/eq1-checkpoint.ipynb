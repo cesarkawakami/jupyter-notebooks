{
 "cells": [
  {
   "cell_type": "markdown",
   "metadata": {},
   "source": [
    "We know that\n",
    "$$\n",
    "    \\cos^2 \\omega + \\sin^2 \\omega = 1\n",
    "$$\n",
    "\n",
    "Rearranging,\n",
    "$$\n",
    "    \\Longrightarrow \\cos^2\\omega - 1 = \\sin^2\\omega\n",
    "$$\n",
    "\n",
    "Squaring both sides yields\n",
    "$$\n",
    "    \\Longrightarrow \\cos^4\\omega - 2\\cos^2\\omega + 1 = \\sin^4\\omega\n",
    "$$\n",
    "\n",
    "Rerranging\n",
    "$$\n",
    "    \\Longrightarrow \\cos^4\\omega  + 1 - \\sin^4\\omega = 2\\cos^2\\omega\n",
    "$$\n",
    "\n",
    "QED"
   ]
  },
  {
   "cell_type": "code",
   "execution_count": null,
   "metadata": {
    "collapsed": true
   },
   "outputs": [],
   "source": []
  }
 ],
 "metadata": {
  "kernelspec": {
   "display_name": "Python 3",
   "language": "python",
   "name": "python3"
  },
  "language_info": {
   "codemirror_mode": {
    "name": "ipython",
    "version": 3
   },
   "file_extension": ".py",
   "mimetype": "text/x-python",
   "name": "python",
   "nbconvert_exporter": "python",
   "pygments_lexer": "ipython3",
   "version": "3.5.2"
  }
 },
 "nbformat": 4,
 "nbformat_minor": 2
}
