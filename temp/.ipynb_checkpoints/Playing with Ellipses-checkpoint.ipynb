{
 "cells": [
  {
   "cell_type": "markdown",
   "metadata": {
    "deletable": true,
    "editable": true
   },
   "source": [
    "# Playing with Ellipses\n",
    "\n",
    "$$\n",
    "    \\newcommand{\\vect}[1]{\\mathbf{#1}}\n",
    "    \\newcommand{\\hypot}[2]{\\sqrt{#1^2 + #2^2}}\n",
    "$$\n",
    "\n",
    "An ellipsis centered at the origin can be parameterized as\n",
    "$$\n",
    "    \\vect{p} = \\vect{a} \\sin\\theta + \\vect{b} \\cos\\theta\n",
    "$$\n",
    "Where $\\vect{a}$ and $\\vect{b}$ are orthogonal to each other.\n",
    "\n",
    "Thus, on the $y$ axis,\n",
    "\\begin{align\\*}\n",
    "    p_y &= a_y \\sin\\theta + b_y \\cos\\theta \\\\\\\\\n",
    "        &= \\hypot{a_y}{b_y} \\Biggl( \n",
    "            \\frac{a_y}{\\hypot{a_y}{b_y}} \\sin\\theta + \\frac{b_y}{\\hypot{a_y}{b_y}} \\cos\\theta\n",
    "        \\Biggr)\n",
    "\\end{align\\*}\n",
    "\n",
    "Picking $\\alpha$ such that $\\displaystyle \\cos\\alpha = \\frac{a_y}{\\hypot{a_y}{b_y}}$ we then have\n",
    "\\begin{align\\*}\n",
    "    p_y &= \\hypot{a_y}{b_y} ( \\cos\\alpha \\sin\\theta + \\sin\\alpha \\cos\\theta ) \\\\\\\\\n",
    "        &= \\hypot{a_y}{b_y} \\sin(\\alpha + \\theta)\n",
    "\\end{align\\*}\n",
    "\n",
    "Solutions for the above are\n",
    "$$\n",
    "    \\theta = \\arcsin\\Biggl( \\frac{p_y}{\\hypot{a_y}{b_y}} \\Biggr) - \\alpha + 2k\\pi\n",
    "    \\quad \\text{for $k$ in $\\mathbb{Z}$}\n",
    "$$\n",
    "and\n",
    "$$\n",
    "    \\theta = \\pi - \\arcsin\\Biggl( \\frac{p_y}{\\hypot{a_y}{b_y}} \\Biggr) - \\alpha + 2k\\pi \n",
    "    \\quad \\text{for $k$ in $\\mathbb{Z}$}\n",
    "$$"
   ]
  },
  {
   "cell_type": "code",
   "execution_count": 6,
   "metadata": {
    "collapsed": false,
    "deletable": true,
    "editable": true
   },
   "outputs": [
    {
     "name": "stdout",
     "output_type": "stream",
     "text": [
      "Populating the interactive namespace from numpy and matplotlib\n"
     ]
    }
   ],
   "source": [
    "%pylab inline\n",
    "import ipywidgets\n",
    "figsize(10, 6)"
   ]
  },
  {
   "cell_type": "code",
   "execution_count": 7,
   "metadata": {
    "collapsed": true,
    "deletable": true,
    "editable": true
   },
   "outputs": [],
   "source": [
    "#         double ay = a.y;\n",
    "#         double by = b.y;\n",
    "\n",
    "#         if ((ay*ay + by*by) < 0.0) {\n",
    "#             return {0.0, 0.0};\n",
    "#         }\n",
    "\n",
    "#         double alpha = acos(ay / sqrt(ay*ay + by*by));\n",
    "#         double theta = asin((y-circle_center.y)/sqrt(ay*ay + by*by));\n",
    "#         double theta1 = theta - alpha;\n",
    "#         double theta2 = M_PI - theta - alpha;\n",
    "\n",
    "#         double z1 = circle_center.z + radius*(sin(theta1)*a.z + cos(theta1)*b.z);\n",
    "#         double z2 = circle_center.z + radius*(sin(theta2)*a.z + cos(theta2)*b.z);\n",
    "        \n",
    "def find_z(ay, by, cy, y, az, bz, cz):\n",
    "    alpha = arccos(ay / sqrt(ay*ay + by*by))\n",
    "    theta = arcsin(  (y - cy) / sqrt(ay*ay + by*by)  )\n",
    "    theta1 = theta - alpha\n",
    "    theta2 = pi - theta - alpha\n",
    "    \n",
    "    z1 = cz + az*sin(theta1) + bz*cos(theta1)\n",
    "    z2 = cz + az*sin(theta2) + bz*cos(theta2)\n",
    "    return z1, z2\n"
   ]
  },
  {
   "cell_type": "code",
   "execution_count": 8,
   "metadata": {
    "collapsed": true,
    "deletable": true,
    "editable": true
   },
   "outputs": [],
   "source": [
    "def rotation_matrix(axis, theta):\n",
    "    \"\"\"\n",
    "    Return the rotation matrix associated with counterclockwise rotation about\n",
    "    the given axis by theta radians.\n",
    "    \"\"\"\n",
    "    axis = asarray(axis)\n",
    "    axis = axis/sqrt(dot(axis, axis))\n",
    "    a = cos(theta/2.0)\n",
    "    b, c, d = -axis*sin(theta/2.0)\n",
    "    aa, bb, cc, dd = a*a, b*b, c*c, d*d\n",
    "    bc, ad, ac, ab, bd, cd = b*c, a*d, a*c, a*b, b*d, c*d\n",
    "    return np.array([[aa+bb-cc-dd, 2*(bc+ad), 2*(bd-ac)],\n",
    "                     [2*(bc-ad), aa+cc-bb-dd, 2*(cd+ab)],\n",
    "                     [2*(bd+ac), 2*(cd-ab), aa+dd-bb-cc]])\n",
    "\n",
    "def euler_rotate(rx, ry, rz):\n",
    "    return rotation_matrix([1, 0, 0], rx) @ rotation_matrix([0, 1, 0], ry) @ rotation_matrix([0, 0, 1], rz)"
   ]
  },
  {
   "cell_type": "code",
   "execution_count": 9,
   "metadata": {
    "collapsed": false,
    "deletable": true,
    "editable": true
   },
   "outputs": [
    {
     "data": {
      "application/vnd.jupyter.widget-view+json": {
       "model_id": "1ccec6bf2e3a4caa80b23be71347cba2"
      }
     },
     "metadata": {},
     "output_type": "display_data"
    }
   ],
   "source": [
    "rx, ry, rz, rd = .11, .11, .11, 3.14\n",
    "\n",
    "@ipywidgets.interact(rx=(0, 2*pi, 0.01),\n",
    "                     ry=(0, 2*pi, 0.01), \n",
    "                     rz=(0, 2*pi, 0.01))\n",
    "def go(rx=.52, ry=.84, rz=.28):\n",
    "    ax, ay, az = [0, 3, 0] @ euler_rotate(rx, ry, rz)\n",
    "    bx, by, bz = [0, 0, 6] @ euler_rotate(rx, ry, rz)\n",
    "    cx, cy, cz = 0, -10, 10\n",
    "\n",
    "    theta = arange(0, 2*pi, 0.001)\n",
    "    y = cy + ay*sin(theta) + by*cos(theta)\n",
    "    z = cz + az*sin(theta) + bz*cos(theta)\n",
    "    plot(y, z, 'r')\n",
    "    title('parameterized ellipsis')\n",
    "    show()\n",
    "\n",
    "    y = linspace(min(y), max(y), 10000)\n",
    "    zb = find_z(ay, by, cy, y, az, bz, cz)[0]\n",
    "    ze = find_z(ay, by, cy, y, az, bz, cz)[1]\n",
    "    plot(y, zb, 'r', y, ze, 'g')\n",
    "    title('find_z for each y')\n",
    "    show()"
   ]
  },
  {
   "cell_type": "code",
   "execution_count": null,
   "metadata": {
    "collapsed": true,
    "deletable": true,
    "editable": true
   },
   "outputs": [],
   "source": [
    "\n",
    "\n",
    "\n",
    "\n",
    "\n",
    "\n",
    "\n",
    "\n",
    "\n",
    "\n",
    "\n",
    "\n",
    "\n",
    "\n",
    "\n",
    "\n",
    "\n",
    "\n",
    "\n",
    "\n",
    "\n",
    "\n",
    "\n",
    "\n",
    "\n",
    "\n",
    "\n",
    "\n",
    "\n",
    "\n",
    "\n"
   ]
  }
 ],
 "metadata": {
  "kernelspec": {
   "display_name": "Python 3",
   "language": "python",
   "name": "python3"
  },
  "language_info": {
   "codemirror_mode": {
    "name": "ipython",
    "version": 3
   },
   "file_extension": ".py",
   "mimetype": "text/x-python",
   "name": "python",
   "nbconvert_exporter": "python",
   "pygments_lexer": "ipython3",
   "version": "3.5.2"
  }
 },
 "nbformat": 4,
 "nbformat_minor": 2
}
