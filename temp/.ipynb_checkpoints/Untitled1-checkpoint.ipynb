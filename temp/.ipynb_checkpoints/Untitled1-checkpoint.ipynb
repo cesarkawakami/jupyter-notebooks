{
 "cells": [
  {
   "cell_type": "markdown",
   "metadata": {},
   "source": [
    "# From $n^2m$ to $nm$ in \"Mice and Holes\"\n",
    "\n",
    "The straightforward recursive formula for this problem goes like this:\n",
    "$$\n",
    "    dp_{i,j} = \\min_{j - c_i + 1 \\leq k \\leq j} f(x)\n",
    "$$"
   ]
  },
  {
   "cell_type": "code",
   "execution_count": null,
   "metadata": {
    "collapsed": true
   },
   "outputs": [],
   "source": []
  }
 ],
 "metadata": {
  "kernelspec": {
   "display_name": "Python 3",
   "language": "python",
   "name": "python3"
  },
  "language_info": {
   "codemirror_mode": {
    "name": "ipython",
    "version": 3
   },
   "file_extension": ".py",
   "mimetype": "text/x-python",
   "name": "python",
   "nbconvert_exporter": "python",
   "pygments_lexer": "ipython3",
   "version": "3.5.2"
  }
 },
 "nbformat": 4,
 "nbformat_minor": 2
}
