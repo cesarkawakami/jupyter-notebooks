{
 "cells": [
  {
   "cell_type": "markdown",
   "metadata": {
    "deletable": true,
    "editable": true
   },
   "source": [
    "# Playing with Ellipses\n",
    "\n",
    "$$\n",
    "    \\newcommand{\\vect}[1]{\\mathbf{#1}}\n",
    "    \\newcommand{\\hypot}[2]{\\sqrt{#1^2 + #2^2}}\n",
    "$$\n",
    "\n",
    "An ellipsis centered at the origin can be parameterized as\n",
    "$$\n",
    "    \\vect{p} = \\vect{a} \\sin\\theta + \\vect{b} \\cos\\theta\n",
    "$$\n",
    "Where $\\vect{a}$ and $\\vect{b}$ are orthogonal to each other.\n",
    "\n",
    "Thus, on the $y$ axis,\n",
    "\\begin{align\\*}\n",
    "    p_y &= a_y \\sin\\theta + b_y \\cos\\theta \\\\\\\\\n",
    "        &= \\hypot{a_y}{b_y} \\Biggl( \n",
    "            \\frac{a_y}{\\hypot{a_y}{b_y}} \\sin\\theta + \\frac{b_y}{\\hypot{a_y}{b_y}} \\cos\\theta\n",
    "        \\Biggr)\n",
    "\\end{align\\*}\n",
    "\n",
    "Picking $\\alpha$ such that $\\displaystyle \\cos\\alpha = \\frac{a_y}{\\hypot{a_y}{b_y}}$ we then have\n",
    "\\begin{align\\*}\n",
    "    p_y &= \\hypot{a_y}{b_y} ( \\cos\\alpha \\sin\\theta + \\sin\\alpha \\cos\\theta ) \\\\\\\\\n",
    "        &= \\hypot{a_y}{b_y} \\sin(\\alpha + \\theta)\n",
    "\\end{align\\*}\n",
    "\n",
    "Solutions for the above are\n",
    "$$\n",
    "    \\theta = \\arcsin\\Biggl( \\frac{p_y}{\\hypot{a_y}{b_y}} \\Biggr) - \\alpha + 2k\\pi\n",
    "    \\quad \\text{for $k$ in $\\mathbb{Z}$}\n",
    "$$\n",
    "and\n",
    "$$\n",
    "    \\theta = \\pi - \\arcsin\\Biggl( \\frac{p_y}{\\hypot{a_y}{b_y}} \\Biggr) - \\alpha + 2k\\pi \n",
    "    \\quad \\text{for $k$ in $\\mathbb{Z}$}\n",
    "$$"
   ]
  },
  {
   "cell_type": "code",
   "execution_count": 8,
   "metadata": {
    "collapsed": false,
    "deletable": true,
    "editable": true
   },
   "outputs": [
    {
     "name": "stdout",
     "output_type": "stream",
     "text": [
      "Populating the interactive namespace from numpy and matplotlib\n"
     ]
    }
   ],
   "source": [
    "%pylab inline\n",
    "import ipywidgets\n",
    "import seaborn as sns\n",
    "figsize(10, 6)"
   ]
  },
  {
   "cell_type": "code",
   "execution_count": 9,
   "metadata": {
    "collapsed": true,
    "deletable": true,
    "editable": true
   },
   "outputs": [],
   "source": [
    "#         double ay = a.y;\n",
    "#         double by = b.y;\n",
    "\n",
    "#         if ((ay*ay + by*by) < 0.0) {\n",
    "#             return {0.0, 0.0};\n",
    "#         }\n",
    "\n",
    "#         double alpha = acos(ay / sqrt(ay*ay + by*by));\n",
    "#         double theta = asin((y-circle_center.y)/sqrt(ay*ay + by*by));\n",
    "#         double theta1 = theta - alpha;\n",
    "#         double theta2 = M_PI - theta - alpha;\n",
    "\n",
    "#         double z1 = circle_center.z + radius*(sin(theta1)*a.z + cos(theta1)*b.z);\n",
    "#         double z2 = circle_center.z + radius*(sin(theta2)*a.z + cos(theta2)*b.z);\n",
    "        \n",
    "def find_z(ay, by, cy, y, az, bz, cz):\n",
    "    alpha = arccos(ay / sqrt(ay*ay + by*by))\n",
    "    theta = arcsin(  (y - cy) / sqrt(ay*ay + by*by)  )\n",
    "    theta1 = theta - alpha\n",
    "    theta2 = pi - theta - alpha\n",
    "    \n",
    "    z1 = cz + az*sin(theta1) + bz*cos(theta1)\n",
    "    z2 = cz + az*sin(theta2) + bz*cos(theta2)\n",
    "    return z1, z2\n"
   ]
  },
  {
   "cell_type": "code",
   "execution_count": 10,
   "metadata": {
    "collapsed": true,
    "deletable": true,
    "editable": true
   },
   "outputs": [],
   "source": [
    "def rotation_matrix(axis, theta):\n",
    "    \"\"\"\n",
    "    Return the rotation matrix associated with counterclockwise rotation about\n",
    "    the given axis by theta radians.\n",
    "    \"\"\"\n",
    "    axis = asarray(axis)\n",
    "    axis = axis/sqrt(dot(axis, axis))\n",
    "    a = cos(theta/2.0)\n",
    "    b, c, d = -axis*sin(theta/2.0)\n",
    "    aa, bb, cc, dd = a*a, b*b, c*c, d*d\n",
    "    bc, ad, ac, ab, bd, cd = b*c, a*d, a*c, a*b, b*d, c*d\n",
    "    return np.array([[aa+bb-cc-dd, 2*(bc+ad), 2*(bd-ac)],\n",
    "                     [2*(bc-ad), aa+cc-bb-dd, 2*(cd+ab)],\n",
    "                     [2*(bd+ac), 2*(cd-ab), aa+dd-bb-cc]])\n",
    "\n",
    "def euler_rotate(rx, ry, rz):\n",
    "    return rotation_matrix([1, 0, 0], rx) @ rotation_matrix([0, 1, 0], ry) @ rotation_matrix([0, 0, 1], rz)"
   ]
  },
  {
   "cell_type": "code",
   "execution_count": 11,
   "metadata": {
    "collapsed": false,
    "deletable": true,
    "editable": true
   },
   "outputs": [
    {
     "name": "stderr",
     "output_type": "stream",
     "text": [
      "/opt/conda/lib/python3.5/site-packages/matplotlib/font_manager.py:1297: UserWarning: findfont: Font family ['sans-serif'] not found. Falling back to DejaVu Sans\n",
      "  (prop.get_family(), self.defaultFamily[fontext]))\n"
     ]
    },
    {
     "data": {
      "image/png": "[encoded data removed]",
      "text/plain": [
       "<matplotlib.figure.Figure at 0x7f244c06c0f0>"
      ]
     },
     "metadata": {},
     "output_type": "display_data"
    },
    {
     "data": {
      "image/png": "[encoded data removed]",
      "text/plain": [
       "<matplotlib.figure.Figure at 0x7f24581985f8>"
      ]
     },
     "metadata": {},
     "output_type": "display_data"
    }
   ],
   "source": [
    "# @ipywidgets.interact(rx=(0, 2*pi, 0.01),\n",
    "#                      ry=(0, 2*pi, 0.01), \n",
    "#                      rz=(0, 2*pi, 0.01))\n",
    "# def go(rx=.52, ry=.84, rz=.28):\n",
    "rx, ry, rz = .52, .84, .28\n",
    "ax, ay, az = [0, 3, 0] @ euler_rotate(rx, ry, rz)\n",
    "bx, by, bz = [0, 0, 6] @ euler_rotate(rx, ry, rz)\n",
    "cx, cy, cz = 0, -10, 10\n",
    "\n",
    "theta = arange(0, 2*pi, 0.001)\n",
    "y = cy + ay*sin(theta) + by*cos(theta)\n",
    "z = cz + az*sin(theta) + bz*cos(theta)\n",
    "plot(y, z, 'r')\n",
    "title('parameterized ellipsis')\n",
    "show()\n",
    "\n",
    "y = linspace(min(y), max(y), 10000)\n",
    "zb = find_z(ay, by, cy, y, az, bz, cz)[0]\n",
    "ze = find_z(ay, by, cy, y, az, bz, cz)[1]\n",
    "plot(y, zb, 'r', y, ze, 'g')\n",
    "title('find_z for each y')\n",
    "show()\n"
   ]
  },
  {
   "cell_type": "code",
   "execution_count": null,
   "metadata": {
    "collapsed": true,
    "deletable": true,
    "editable": true
   },
   "outputs": [],
   "source": [
    "\n",
    "\n",
    "\n",
    "\n",
    "\n",
    "\n",
    "\n",
    "\n",
    "\n",
    "\n",
    "\n",
    "\n",
    "\n",
    "\n",
    "\n",
    "\n",
    "\n",
    "\n",
    "\n",
    "\n",
    "\n",
    "\n",
    "\n",
    "\n",
    "\n",
    "\n",
    "\n",
    "\n",
    "\n",
    "\n",
    "\n"
   ]
  }
 ],
 "metadata": {
  "kernelspec": {
   "display_name": "Python 3",
   "language": "python",
   "name": "python3"
  },
  "language_info": {
   "codemirror_mode": {
    "name": "ipython",
    "version": 3
   },
   "file_extension": ".py",
   "mimetype": "text/x-python",
   "name": "python",
   "nbconvert_exporter": "python",
   "pygments_lexer": "ipython3",
   "version": "3.5.2"
  },
  "widgets": {
   "application/vnd.jupyter.widget-state+json": {
    "state": {
     "007368efebe74aa49ecfcd3608dc3322": {
      "model_module": "jupyter-js-widgets",
      "model_module_version": "~2.1.4",
      "model_name": "LayoutModel",
      "state": {
       "_model_module_version": "~2.1.4",
       "_view_module_version": "~2.1.4"
      }
     },
     "018b4de536224e4d8c5ac5135f8813f9": {
      "model_module": "jupyter-js-widgets",
      "model_module_version": "~2.1.4",
      "model_name": "FloatSliderModel",
      "state": {
       "_model_module_version": "~2.1.4",
       "_view_module_version": "~2.1.4",
       "description": "rz",
       "layout": "IPY_MODEL_7eda89ae8d074873836525f2183502ac",
       "max": 6.283185307179586,
       "step": 0.01,
       "value": 0.28
      }
     },
     "050f9d6b6ee444dbbbc992eeac122682": {
      "model_module": "jupyter-js-widgets",
      "model_module_version": "~2.1.4",
      "model_name": "VBoxModel",
      "state": {
       "_dom_classes": [
        "widget-interact"
       ],
       "_model_module_version": "~2.1.4",
       "_view_module_version": "~2.1.4",
       "children": [
        "IPY_MODEL_9fb8561b653d46f598e1ba5ea9e947bd",
        "IPY_MODEL_1718de42afc846fbac6b7cd768dac58f",
        "IPY_MODEL_14af56893ce54cd2ae1c061276de198a",
        "IPY_MODEL_4329128172ff43f2bc03223948a07fc0"
       ],
       "layout": "IPY_MODEL_90954e2a26f445809e25ef48464984ba"
      }
     },
     "12eef9c4bb92435085cda4008c3f02e4": {
      "model_module": "jupyter-js-widgets",
      "model_module_version": "~2.1.4",
      "model_name": "LayoutModel",
      "state": {
       "_model_module_version": "~2.1.4",
       "_view_module_version": "~2.1.4"
      }
     },
     "14af56893ce54cd2ae1c061276de198a": {
      "model_module": "jupyter-js-widgets",
      "model_module_version": "~2.1.4",
      "model_name": "FloatSliderModel",
      "state": {
       "_model_module_version": "~2.1.4",
       "_view_module_version": "~2.1.4",
       "description": "rz",
       "layout": "IPY_MODEL_298f8ceac5f3408e88076f8ef4bb0431",
       "max": 6.283185307179586,
       "step": 0.01,
       "value": 0.28
      }
     },
     "1718de42afc846fbac6b7cd768dac58f": {
      "model_module": "jupyter-js-widgets",
      "model_module_version": "~2.1.4",
      "model_name": "FloatSliderModel",
      "state": {
       "_model_module_version": "~2.1.4",
       "_view_module_version": "~2.1.4",
       "description": "ry",
       "layout": "IPY_MODEL_7b029a6249384280b2a765d911a457cf",
       "max": 6.283185307179586,
       "step": 0.01,
       "value": 0.84
      }
     },
     "1cca23ad9d24497f98caebbc5d6acb91": {
      "model_module": "jupyter-js-widgets",
      "model_module_version": "~2.1.4",
      "model_name": "FloatSliderModel",
      "state": {
       "_model_module_version": "~2.1.4",
       "_view_module_version": "~2.1.4",
       "description": "rx",
       "layout": "IPY_MODEL_007368efebe74aa49ecfcd3608dc3322",
       "max": 6.283185307179586,
       "step": 0.01,
       "value": 1.87
      }
     },
     "1ccec6bf2e3a4caa80b23be71347cba2": {
      "model_module": "jupyter-js-widgets",
      "model_module_version": "~2.1.4",
      "model_name": "VBoxModel",
      "state": {
       "_dom_classes": [
        "widget-interact"
       ],
       "_model_module_version": "~2.1.4",
       "_view_module_version": "~2.1.4",
       "children": [
        "IPY_MODEL_92990b9930a043d0b1e32d3c492a8509",
        "IPY_MODEL_b4578d5bd39a4284b6206931e4639995",
        "IPY_MODEL_29307d913205491699239dd78957a32c",
        "IPY_MODEL_c917d28382b341398e4e4a743901239c"
       ],
       "layout": "IPY_MODEL_8127b17de3f34a8db27a350871148810"
      }
     },
     "200285f29fa64214bdb95518ebad4624": {
      "model_module": "jupyter-js-widgets",
      "model_module_version": "~2.1.4",
      "model_name": "OutputModel",
      "state": {
       "_dom_classes": [],
       "_model_module": "jupyter-js-widgets",
       "_model_module_version": "~2.1.4",
       "_view_module": "jupyter-js-widgets",
       "_view_module_version": "~2.1.4",
       "layout": "IPY_MODEL_446823fc663343a4af5cbd85a0a75fe2",
       "msg_throttle": 1
      }
     },
     "2596d2e5dd53476ca7fc2e969b840a16": {
      "model_module": "jupyter-js-widgets",
      "model_module_version": "~2.1.4",
      "model_name": "FloatSliderModel",
      "state": {
       "_model_module_version": "~2.1.4",
       "_view_module_version": "~2.1.4",
       "description": "ry",
       "layout": "IPY_MODEL_8a0f51e51df4446c8e033aa951d7d5b9",
       "max": 6.283185307179586,
       "step": 0.01,
       "value": 0.84
      }
     },
     "2703d3b34792412b84200241b2e66b99": {
      "model_module": "jupyter-js-widgets",
      "model_module_version": "~2.1.4",
      "model_name": "LayoutModel",
      "state": {
       "_model_module_version": "~2.1.4",
       "_view_module_version": "~2.1.4"
      }
     },
     "287638c1edc64ec4b1b339301eeebc16": {
      "model_module": "jupyter-js-widgets",
      "model_module_version": "~2.1.4",
      "model_name": "LayoutModel",
      "state": {
       "_model_module_version": "~2.1.4",
       "_view_module_version": "~2.1.4"
      }
     },
     "29307d913205491699239dd78957a32c": {
      "model_module": "jupyter-js-widgets",
      "model_module_version": "~2.1.4",
      "model_name": "FloatSliderModel",
      "state": {
       "_model_module_version": "~2.1.4",
       "_view_module_version": "~2.1.4",
       "description": "rz",
       "layout": "IPY_MODEL_12eef9c4bb92435085cda4008c3f02e4",
       "max": 6.283185307179586,
       "step": 0.01,
       "value": 0.28
      }
     },
     "298f8ceac5f3408e88076f8ef4bb0431": {
      "model_module": "jupyter-js-widgets",
      "model_module_version": "~2.1.4",
      "model_name": "LayoutModel",
      "state": {
       "_model_module_version": "~2.1.4",
       "_view_module_version": "~2.1.4"
      }
     },
     "2a270dae225440e9b549ca2f3c9189ef": {
      "model_module": "jupyter-js-widgets",
      "model_module_version": "~2.1.4",
      "model_name": "LayoutModel",
      "state": {
       "_model_module_version": "~2.1.4",
       "_view_module_version": "~2.1.4"
      }
     },
     "2dbee11d248f49aca4abde1ce245bf1d": {
      "model_module": "jupyter-js-widgets",
      "model_module_version": "~2.1.4",
      "model_name": "VBoxModel",
      "state": {
       "_dom_classes": [
        "widget-interact"
       ],
       "_model_module_version": "~2.1.4",
       "_view_module_version": "~2.1.4",
       "children": [
        "IPY_MODEL_c364631dbf7a4c529c847f9d8b22b2d7",
        "IPY_MODEL_cf2996c8b8b844e4b33dae7d730a8129",
        "IPY_MODEL_7c5733395d19415aa4469cee78ac6293",
        "IPY_MODEL_cd6c729e68bd4434ab94fc51c3493341"
       ],
       "layout": "IPY_MODEL_4309ded7f966426685751cf25118d89b"
      }
     },
     "2f2055bf230f4c9ca2ab7a41222893fb": {
      "model_module": "jupyter-js-widgets",
      "model_module_version": "~2.1.4",
      "model_name": "FloatSliderModel",
      "state": {
       "_model_module_version": "~2.1.4",
       "_view_module_version": "~2.1.4",
       "description": "ry",
       "layout": "IPY_MODEL_2a270dae225440e9b549ca2f3c9189ef",
       "max": 6.283185307179586,
       "step": 0.01,
       "value": 0.84
      }
     },
     "3421fd32491c49b2a81b49653eb5f5d9": {
      "model_module": "jupyter-js-widgets",
      "model_module_version": "~2.1.4",
      "model_name": "LayoutModel",
      "state": {
       "_model_module_version": "~2.1.4",
       "_view_module_version": "~2.1.4"
      }
     },
     "35ee6b5f77cc45489bf1555f74f90209": {
      "model_module": "jupyter-js-widgets",
      "model_module_version": "~2.1.4",
      "model_name": "FloatSliderModel",
      "state": {
       "_model_module_version": "~2.1.4",
       "_view_module_version": "~2.1.4",
       "description": "rz",
       "layout": "IPY_MODEL_493d40970f9f403986a8faaa2612ccea",
       "max": 6.283185307179586,
       "step": 0.01,
       "value": 1.01
      }
     },
     "4309ded7f966426685751cf25118d89b": {
      "model_module": "jupyter-js-widgets",
      "model_module_version": "~2.1.4",
      "model_name": "LayoutModel",
      "state": {
       "_model_module_version": "~2.1.4",
       "_view_module_version": "~2.1.4"
      }
     },
     "4329128172ff43f2bc03223948a07fc0": {
      "model_module": "jupyter-js-widgets",
      "model_module_version": "~2.1.4",
      "model_name": "OutputModel",
      "state": {
       "_dom_classes": [],
       "_model_module": "jupyter-js-widgets",
       "_model_module_version": "~2.1.4",
       "_view_module": "jupyter-js-widgets",
       "_view_module_version": "~2.1.4",
       "layout": "IPY_MODEL_7f8afc86418f43428f88e451bc815d3a",
       "msg_throttle": 1
      }
     },
     "446823fc663343a4af5cbd85a0a75fe2": {
      "model_module": "jupyter-js-widgets",
      "model_module_version": "~2.1.4",
      "model_name": "LayoutModel",
      "state": {
       "_model_module_version": "~2.1.4",
       "_view_module_version": "~2.1.4"
      }
     },
     "468f023be92046598ce6f91255036354": {
      "model_module": "jupyter-js-widgets",
      "model_module_version": "~2.1.4",
      "model_name": "VBoxModel",
      "state": {
       "_dom_classes": [
        "widget-interact"
       ],
       "_model_module_version": "~2.1.4",
       "_view_module_version": "~2.1.4",
       "children": [
        "IPY_MODEL_4cd9e049ff8945158edcc0435adbbc0b",
        "IPY_MODEL_2f2055bf230f4c9ca2ab7a41222893fb",
        "IPY_MODEL_9d3db26c1866475b91b2596a053f309e",
        "IPY_MODEL_d71ec9088d9745578a377d81a28930ae"
       ],
       "layout": "IPY_MODEL_287638c1edc64ec4b1b339301eeebc16"
      }
     },
     "493d40970f9f403986a8faaa2612ccea": {
      "model_module": "jupyter-js-widgets",
      "model_module_version": "~2.1.4",
      "model_name": "LayoutModel",
      "state": {
       "_model_module_version": "~2.1.4",
       "_view_module_version": "~2.1.4"
      }
     },
     "4c3b696d20e940b0ae91a159f119e3d4": {
      "model_module": "jupyter-js-widgets",
      "model_module_version": "~2.1.4",
      "model_name": "LayoutModel",
      "state": {
       "_model_module_version": "~2.1.4",
       "_view_module_version": "~2.1.4"
      }
     },
     "4cd9e049ff8945158edcc0435adbbc0b": {
      "model_module": "jupyter-js-widgets",
      "model_module_version": "~2.1.4",
      "model_name": "FloatSliderModel",
      "state": {
       "_model_module_version": "~2.1.4",
       "_view_module_version": "~2.1.4",
       "description": "rx",
       "layout": "IPY_MODEL_db76664881a94ae68cb809660d662e30",
       "max": 6.283185307179586,
       "step": 0.01,
       "value": 0.52
      }
     },
     "522e9fd920bf44c1b791ff1b338ef306": {
      "model_module": "jupyter-js-widgets",
      "model_module_version": "~2.1.4",
      "model_name": "LayoutModel",
      "state": {
       "_model_module_version": "~2.1.4",
       "_view_module_version": "~2.1.4"
      }
     },
     "52a29eaaa832417ca291907f5c389cda": {
      "model_module": "jupyter-js-widgets",
      "model_module_version": "~2.1.4",
      "model_name": "LayoutModel",
      "state": {
       "_model_module_version": "~2.1.4",
       "_view_module_version": "~2.1.4"
      }
     },
     "541549c4b5734abba0cfe33fcacb200f": {
      "model_module": "jupyter-js-widgets",
      "model_module_version": "~2.1.4",
      "model_name": "LayoutModel",
      "state": {
       "_model_module_version": "~2.1.4",
       "_view_module_version": "~2.1.4"
      }
     },
     "5fab48870a7943828e72ef66e34390d0": {
      "model_module": "jupyter-js-widgets",
      "model_module_version": "~2.1.4",
      "model_name": "LayoutModel",
      "state": {
       "_model_module_version": "~2.1.4",
       "_view_module_version": "~2.1.4"
      }
     },
     "627da4ca21fe4d6a9ee617457efd0df6": {
      "model_module": "jupyter-js-widgets",
      "model_module_version": "~2.1.4",
      "model_name": "LayoutModel",
      "state": {
       "_model_module_version": "~2.1.4",
       "_view_module_version": "~2.1.4"
      }
     },
     "7b029a6249384280b2a765d911a457cf": {
      "model_module": "jupyter-js-widgets",
      "model_module_version": "~2.1.4",
      "model_name": "LayoutModel",
      "state": {
       "_model_module_version": "~2.1.4",
       "_view_module_version": "~2.1.4"
      }
     },
     "7c5733395d19415aa4469cee78ac6293": {
      "model_module": "jupyter-js-widgets",
      "model_module_version": "~2.1.4",
      "model_name": "FloatSliderModel",
      "state": {
       "_model_module_version": "~2.1.4",
       "_view_module_version": "~2.1.4",
       "description": "rz",
       "layout": "IPY_MODEL_2703d3b34792412b84200241b2e66b99",
       "max": 6.283185307179586,
       "step": 0.01,
       "value": 0.28
      }
     },
     "7eda89ae8d074873836525f2183502ac": {
      "model_module": "jupyter-js-widgets",
      "model_module_version": "~2.1.4",
      "model_name": "LayoutModel",
      "state": {
       "_model_module_version": "~2.1.4",
       "_view_module_version": "~2.1.4"
      }
     },
     "7f87e16a993144649edaf8b36f092bf1": {
      "model_module": "jupyter-js-widgets",
      "model_module_version": "~2.1.4",
      "model_name": "LayoutModel",
      "state": {
       "_model_module_version": "~2.1.4",
       "_view_module_version": "~2.1.4"
      }
     },
     "7f8afc86418f43428f88e451bc815d3a": {
      "model_module": "jupyter-js-widgets",
      "model_module_version": "~2.1.4",
      "model_name": "LayoutModel",
      "state": {
       "_model_module_version": "~2.1.4",
       "_view_module_version": "~2.1.4"
      }
     },
     "8127b17de3f34a8db27a350871148810": {
      "model_module": "jupyter-js-widgets",
      "model_module_version": "~2.1.4",
      "model_name": "LayoutModel",
      "state": {
       "_model_module_version": "~2.1.4",
       "_view_module_version": "~2.1.4"
      }
     },
     "8538e579c8974a0e87707d2d89ce4b03": {
      "model_module": "jupyter-js-widgets",
      "model_module_version": "~2.1.4",
      "model_name": "LayoutModel",
      "state": {
       "_model_module_version": "~2.1.4",
       "_view_module_version": "~2.1.4"
      }
     },
     "8a0f51e51df4446c8e033aa951d7d5b9": {
      "model_module": "jupyter-js-widgets",
      "model_module_version": "~2.1.4",
      "model_name": "LayoutModel",
      "state": {
       "_model_module_version": "~2.1.4",
       "_view_module_version": "~2.1.4"
      }
     },
     "90954e2a26f445809e25ef48464984ba": {
      "model_module": "jupyter-js-widgets",
      "model_module_version": "~2.1.4",
      "model_name": "LayoutModel",
      "state": {
       "_model_module_version": "~2.1.4",
       "_view_module_version": "~2.1.4"
      }
     },
     "92990b9930a043d0b1e32d3c492a8509": {
      "model_module": "jupyter-js-widgets",
      "model_module_version": "~2.1.4",
      "model_name": "FloatSliderModel",
      "state": {
       "_model_module_version": "~2.1.4",
       "_view_module_version": "~2.1.4",
       "description": "rx",
       "layout": "IPY_MODEL_dc01507e45e745dd99c8ec7273f5881b",
       "max": 6.283185307179586,
       "step": 0.01,
       "value": 0.52
      }
     },
     "9523af1789a04423bb105a540fe1a21b": {
      "model_module": "jupyter-js-widgets",
      "model_module_version": "~2.1.4",
      "model_name": "VBoxModel",
      "state": {
       "_dom_classes": [
        "widget-interact"
       ],
       "_model_module_version": "~2.1.4",
       "_view_module_version": "~2.1.4",
       "children": [
        "IPY_MODEL_1cca23ad9d24497f98caebbc5d6acb91",
        "IPY_MODEL_b84af31eb87e40ef902402e50e0bffaa",
        "IPY_MODEL_35ee6b5f77cc45489bf1555f74f90209",
        "IPY_MODEL_c918d07b2a164a0ba1314466316bc7ae"
       ],
       "layout": "IPY_MODEL_3421fd32491c49b2a81b49653eb5f5d9"
      }
     },
     "98468ca540704830b44d7f9c9865931a": {
      "model_module": "jupyter-js-widgets",
      "model_module_version": "~2.1.4",
      "model_name": "FloatSliderModel",
      "state": {
       "_model_module_version": "~2.1.4",
       "_view_module_version": "~2.1.4",
       "description": "ry",
       "layout": "IPY_MODEL_d456ff85d1ae4761beaefed253c9e110",
       "max": 6.283185307179586,
       "step": 0.01,
       "value": 0.84
      }
     },
     "99910cb66eb240b7bd60c3ca74bbf83e": {
      "model_module": "jupyter-js-widgets",
      "model_module_version": "~2.1.4",
      "model_name": "FloatSliderModel",
      "state": {
       "_model_module_version": "~2.1.4",
       "_view_module_version": "~2.1.4",
       "description": "rx",
       "layout": "IPY_MODEL_cfc845bb70ad40669e3e79783a5d25a7",
       "max": 6.283185307179586,
       "step": 0.01,
       "value": 0.52
      }
     },
     "9d3db26c1866475b91b2596a053f309e": {
      "model_module": "jupyter-js-widgets",
      "model_module_version": "~2.1.4",
      "model_name": "FloatSliderModel",
      "state": {
       "_model_module_version": "~2.1.4",
       "_view_module_version": "~2.1.4",
       "description": "rz",
       "layout": "IPY_MODEL_52a29eaaa832417ca291907f5c389cda",
       "max": 6.283185307179586,
       "step": 0.01,
       "value": 0.28
      }
     },
     "9fb8561b653d46f598e1ba5ea9e947bd": {
      "model_module": "jupyter-js-widgets",
      "model_module_version": "~2.1.4",
      "model_name": "FloatSliderModel",
      "state": {
       "_model_module_version": "~2.1.4",
       "_view_module_version": "~2.1.4",
       "description": "rx",
       "layout": "IPY_MODEL_8538e579c8974a0e87707d2d89ce4b03",
       "max": 6.283185307179586,
       "step": 0.01,
       "value": 0.52
      }
     },
     "a37c06d2027b4d06a4c74d9718f2b290": {
      "model_module": "jupyter-js-widgets",
      "model_module_version": "~2.1.4",
      "model_name": "FloatSliderModel",
      "state": {
       "_model_module_version": "~2.1.4",
       "_view_module_version": "~2.1.4",
       "description": "rz",
       "layout": "IPY_MODEL_eb719b9fa6c548bf85289e29b6c954fb",
       "max": 6.283185307179586,
       "step": 0.01,
       "value": 0.28
      }
     },
     "a6dba520765a46ecb86fdd135e18ee4c": {
      "model_module": "jupyter-js-widgets",
      "model_module_version": "~2.1.4",
      "model_name": "LayoutModel",
      "state": {
       "_model_module_version": "~2.1.4",
       "_view_module_version": "~2.1.4"
      }
     },
     "a9834d813efc4764893c83a3f267b425": {
      "model_module": "jupyter-js-widgets",
      "model_module_version": "~2.1.4",
      "model_name": "LayoutModel",
      "state": {
       "_model_module_version": "~2.1.4",
       "_view_module_version": "~2.1.4"
      }
     },
     "af525117d34249b5bf6c844d5b6d67a4": {
      "model_module": "jupyter-js-widgets",
      "model_module_version": "~2.1.4",
      "model_name": "LayoutModel",
      "state": {
       "_model_module_version": "~2.1.4",
       "_view_module_version": "~2.1.4"
      }
     },
     "b4578d5bd39a4284b6206931e4639995": {
      "model_module": "jupyter-js-widgets",
      "model_module_version": "~2.1.4",
      "model_name": "FloatSliderModel",
      "state": {
       "_model_module_version": "~2.1.4",
       "_view_module_version": "~2.1.4",
       "description": "ry",
       "layout": "IPY_MODEL_e0643581aba04210aa8b13f6a6c1d60e",
       "max": 6.283185307179586,
       "step": 0.01,
       "value": 0.84
      }
     },
     "b6b8ab90206b42e6b5ea214d4c2f6203": {
      "model_module": "jupyter-js-widgets",
      "model_module_version": "~2.1.4",
      "model_name": "OutputModel",
      "state": {
       "_dom_classes": [],
       "_model_module": "jupyter-js-widgets",
       "_model_module_version": "~2.1.4",
       "_view_module": "jupyter-js-widgets",
       "_view_module_version": "~2.1.4",
       "layout": "IPY_MODEL_4c3b696d20e940b0ae91a159f119e3d4",
       "msg_throttle": 1
      }
     },
     "b6d92e13b9ba4592847f68463c47bab5": {
      "model_module": "jupyter-js-widgets",
      "model_module_version": "~2.1.4",
      "model_name": "VBoxModel",
      "state": {
       "_dom_classes": [
        "widget-interact"
       ],
       "_model_module_version": "~2.1.4",
       "_view_module_version": "~2.1.4",
       "children": [
        "IPY_MODEL_c4cd05e9f04a4129949c01b5b3f9d50d",
        "IPY_MODEL_98468ca540704830b44d7f9c9865931a",
        "IPY_MODEL_a37c06d2027b4d06a4c74d9718f2b290",
        "IPY_MODEL_b6b8ab90206b42e6b5ea214d4c2f6203"
       ],
       "layout": "IPY_MODEL_7f87e16a993144649edaf8b36f092bf1"
      }
     },
     "b84af31eb87e40ef902402e50e0bffaa": {
      "model_module": "jupyter-js-widgets",
      "model_module_version": "~2.1.4",
      "model_name": "FloatSliderModel",
      "state": {
       "_model_module_version": "~2.1.4",
       "_view_module_version": "~2.1.4",
       "description": "ry",
       "layout": "IPY_MODEL_fed386817e7d467bb3cfd7eeec5d599e",
       "max": 6.283185307179586,
       "step": 0.01,
       "value": 1.37
      }
     },
     "c364631dbf7a4c529c847f9d8b22b2d7": {
      "model_module": "jupyter-js-widgets",
      "model_module_version": "~2.1.4",
      "model_name": "FloatSliderModel",
      "state": {
       "_model_module_version": "~2.1.4",
       "_view_module_version": "~2.1.4",
       "description": "rx",
       "layout": "IPY_MODEL_f713f7c989894418b17417331ee8dc00",
       "max": 6.283185307179586,
       "step": 0.01,
       "value": 0.52
      }
     },
     "c4cd05e9f04a4129949c01b5b3f9d50d": {
      "model_module": "jupyter-js-widgets",
      "model_module_version": "~2.1.4",
      "model_name": "FloatSliderModel",
      "state": {
       "_model_module_version": "~2.1.4",
       "_view_module_version": "~2.1.4",
       "description": "rx",
       "layout": "IPY_MODEL_5fab48870a7943828e72ef66e34390d0",
       "max": 6.283185307179586,
       "step": 0.01,
       "value": 0.52
      }
     },
     "c50d1022715246fd8fc49300318285fd": {
      "model_module": "jupyter-js-widgets",
      "model_module_version": "~2.1.4",
      "model_name": "VBoxModel",
      "state": {
       "_dom_classes": [
        "widget-interact"
       ],
       "_model_module_version": "~2.1.4",
       "_view_module_version": "~2.1.4",
       "children": [
        "IPY_MODEL_99910cb66eb240b7bd60c3ca74bbf83e",
        "IPY_MODEL_2596d2e5dd53476ca7fc2e969b840a16",
        "IPY_MODEL_018b4de536224e4d8c5ac5135f8813f9",
        "IPY_MODEL_200285f29fa64214bdb95518ebad4624"
       ],
       "layout": "IPY_MODEL_522e9fd920bf44c1b791ff1b338ef306"
      }
     },
     "c917d28382b341398e4e4a743901239c": {
      "model_module": "jupyter-js-widgets",
      "model_module_version": "~2.1.4",
      "model_name": "OutputModel",
      "state": {
       "_dom_classes": [],
       "_model_module": "jupyter-js-widgets",
       "_model_module_version": "~2.1.4",
       "_view_module": "jupyter-js-widgets",
       "_view_module_version": "~2.1.4",
       "layout": "IPY_MODEL_541549c4b5734abba0cfe33fcacb200f",
       "msg_throttle": 1
      }
     },
     "c918d07b2a164a0ba1314466316bc7ae": {
      "model_module": "jupyter-js-widgets",
      "model_module_version": "~2.1.4",
      "model_name": "OutputModel",
      "state": {
       "_dom_classes": [],
       "_model_module": "jupyter-js-widgets",
       "_model_module_version": "~2.1.4",
       "_view_module": "jupyter-js-widgets",
       "_view_module_version": "~2.1.4",
       "layout": "IPY_MODEL_627da4ca21fe4d6a9ee617457efd0df6",
       "msg_throttle": 1
      }
     },
     "cd6c729e68bd4434ab94fc51c3493341": {
      "model_module": "jupyter-js-widgets",
      "model_module_version": "~2.1.4",
      "model_name": "OutputModel",
      "state": {
       "_dom_classes": [],
       "_model_module": "jupyter-js-widgets",
       "_model_module_version": "~2.1.4",
       "_view_module": "jupyter-js-widgets",
       "_view_module_version": "~2.1.4",
       "layout": "IPY_MODEL_a9834d813efc4764893c83a3f267b425",
       "msg_throttle": 1
      }
     },
     "cf2996c8b8b844e4b33dae7d730a8129": {
      "model_module": "jupyter-js-widgets",
      "model_module_version": "~2.1.4",
      "model_name": "FloatSliderModel",
      "state": {
       "_model_module_version": "~2.1.4",
       "_view_module_version": "~2.1.4",
       "description": "ry",
       "layout": "IPY_MODEL_af525117d34249b5bf6c844d5b6d67a4",
       "max": 6.283185307179586,
       "step": 0.01,
       "value": 0.84
      }
     },
     "cfc845bb70ad40669e3e79783a5d25a7": {
      "model_module": "jupyter-js-widgets",
      "model_module_version": "~2.1.4",
      "model_name": "LayoutModel",
      "state": {
       "_model_module_version": "~2.1.4",
       "_view_module_version": "~2.1.4"
      }
     },
     "d456ff85d1ae4761beaefed253c9e110": {
      "model_module": "jupyter-js-widgets",
      "model_module_version": "~2.1.4",
      "model_name": "LayoutModel",
      "state": {
       "_model_module_version": "~2.1.4",
       "_view_module_version": "~2.1.4"
      }
     },
     "d71ec9088d9745578a377d81a28930ae": {
      "model_module": "jupyter-js-widgets",
      "model_module_version": "~2.1.4",
      "model_name": "OutputModel",
      "state": {
       "_dom_classes": [],
       "_model_module": "jupyter-js-widgets",
       "_model_module_version": "~2.1.4",
       "_view_module": "jupyter-js-widgets",
       "_view_module_version": "~2.1.4",
       "layout": "IPY_MODEL_a6dba520765a46ecb86fdd135e18ee4c",
       "msg_throttle": 1
      }
     },
     "db76664881a94ae68cb809660d662e30": {
      "model_module": "jupyter-js-widgets",
      "model_module_version": "~2.1.4",
      "model_name": "LayoutModel",
      "state": {
       "_model_module_version": "~2.1.4",
       "_view_module_version": "~2.1.4"
      }
     },
     "dc01507e45e745dd99c8ec7273f5881b": {
      "model_module": "jupyter-js-widgets",
      "model_module_version": "~2.1.4",
      "model_name": "LayoutModel",
      "state": {
       "_model_module_version": "~2.1.4",
       "_view_module_version": "~2.1.4"
      }
     },
     "e0643581aba04210aa8b13f6a6c1d60e": {
      "model_module": "jupyter-js-widgets",
      "model_module_version": "~2.1.4",
      "model_name": "LayoutModel",
      "state": {
       "_model_module_version": "~2.1.4",
       "_view_module_version": "~2.1.4"
      }
     },
     "eb719b9fa6c548bf85289e29b6c954fb": {
      "model_module": "jupyter-js-widgets",
      "model_module_version": "~2.1.4",
      "model_name": "LayoutModel",
      "state": {
       "_model_module_version": "~2.1.4",
       "_view_module_version": "~2.1.4"
      }
     },
     "f713f7c989894418b17417331ee8dc00": {
      "model_module": "jupyter-js-widgets",
      "model_module_version": "~2.1.4",
      "model_name": "LayoutModel",
      "state": {
       "_model_module_version": "~2.1.4",
       "_view_module_version": "~2.1.4"
      }
     },
     "fed386817e7d467bb3cfd7eeec5d599e": {
      "model_module": "jupyter-js-widgets",
      "model_module_version": "~2.1.4",
      "model_name": "LayoutModel",
      "state": {
       "_model_module_version": "~2.1.4",
       "_view_module_version": "~2.1.4"
      }
     }
    },
    "version_major": 1,
    "version_minor": 0
   }
  }
 },
 "nbformat": 4,
 "nbformat_minor": 2
}
