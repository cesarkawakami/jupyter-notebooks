{
 "cells": [
  {
   "cell_type": "markdown",
   "metadata": {},
   "source": [
    "# From $n^2m$ to $nm$ in \"Mice and Holes\"\n",
    "\n",
    "Link to the problem: http://codeforces.com/contest/797/problem/F\n",
    "\n",
    "Link to the editorial: http://codeforces.com/blog/entry/51588\n",
    "\n",
    "The straightforward recursive formula for this problem goes like this:\n",
    "$$\n",
    "    dp[i, j] = \\min_{\\substack{j - c[i] \\leq k \\leq j \\\\ 0 \\leq k}} \\left(\n",
    "        dp[i - 1, k] + \\sum_{l = k + 1}^j | x[i] - p[l] |\n",
    "    \\right)\n",
    "$$"
   ]
  },
  {
   "cell_type": "markdown",
   "metadata": {},
   "source": [
    "But notice how the expanded formulas for $dp[i, j]$ and $dp[i, j - 1]$ are similar:\n",
    "\\begin{align*}\n",
    "    dp[i, j] = \\min(\\;& dp[i - 1, j] \\; , \\\\\n",
    "        & dp[i - 1, j - 1] + |x[i] - p[j]| \\; , \\\\\n",
    "        & dp[i - 1, j - 2] + |x[i] - p[j]| + |x[i] - p[j - 1]| \\; , \\\\\n",
    "        & dp[i - 1, j - 3] + |x[i] - p[j]| + |x[i] - p[j - 1]| + |x[i] - p[j - 2]| \\; , \\; \\ldots) \\\\\n",
    "    dp[i, j - 1] = \\min(\\;& dp[i - 1, j - 1] \\; , \\\\\n",
    "        & dp[i - 1, j - 2] + |x[i] - p[j - 1]| \\; , \\\\\n",
    "        & dp[i - 1, j - 3] + |x[i] - p[j - 1]| + |x[i] - p[j - 2]| \\; , \\\\\n",
    "        & dp[i - 1, j - 4] + |x[i] - p[j - 1]| + |x[i] - p[j - 2]| + |x[i] - p[j - 3]| \\; , \\; \\ldots) \\\\\n",
    "\\end{align*}"
   ]
  },
  {
   "cell_type": "markdown",
   "metadata": {},
   "source": [
    "In particular, the expressions inside $\\min$ are all almost the same, except for a $|x[i] - p[j]|$ term."
   ]
  },
  {
   "cell_type": "markdown",
   "metadata": {},
   "source": [
    "So, what can we do to make those terms *exactly* the same? Basically, what we want is to make the expressions inside the $\\min$ to be independent of $j$. The adversary is the summation term. Let's see what we can do about that:\n",
    "\\begin{align*}\n",
    "    dp[i, j] &= \\min_{\\substack{j - c[i] \\leq k \\leq j \\\\ 0 \\leq k}} \\left(\n",
    "        dp[i - 1, k] + \\sum_{l = k + 1}^j | x[i] - p[l] |\n",
    "    \\right) \\\\\n",
    "    dp[i, j] &= \\min_{\\substack{j - c[i] \\leq k \\leq j \\\\ 0 \\leq k}} \\left(\n",
    "        dp[i - 1, k] + \\sum_{l = 0}^j | x[i] - p[l] | - \\sum_{l = 0}^k | x[i] - p[l] |\n",
    "    \\right) \\\\\n",
    "    dp[i, j] &= \\min_{\\substack{j - c[i] \\leq k \\leq j \\\\ 0 \\leq k}} \\left(\n",
    "        dp[i - 1, k] - \\sum_{l = 0}^k | x[i] - p[l] |\n",
    "    \\right) + \\sum_{l = 0}^j | x[i] - p[l] | \\\\\n",
    "\\end{align*}"
   ]
  },
  {
   "cell_type": "markdown",
   "metadata": {},
   "source": [
    "Wonderful. Now the terms being evaluated inside the $\\min$ are independent of $j$, which means we can \"reuse\" the $\\min$ computation between iterations.\n",
    "\n",
    "This means we'll need a data structure that works like a queue (because of the $j - c[i] \\leq k \\leq j$ restriction) that can keep track of the minimum. There's a data structure that works like a queue and has the `min` operation in $O(1)$ time. I'm not sure if it has a name, but it's described here: http://stackoverflow.com/a/14130234.\n",
    "\n",
    "This solves the problem in $O(nm)$ time."
   ]
  },
  {
   "cell_type": "code",
   "execution_count": null,
   "metadata": {
    "collapsed": true
   },
   "outputs": [],
   "source": []
  }
 ],
 "metadata": {
  "kernelspec": {
   "display_name": "Python 3",
   "language": "python",
   "name": "python3"
  },
  "language_info": {
   "codemirror_mode": {
    "name": "ipython",
    "version": 3
   },
   "file_extension": ".py",
   "mimetype": "text/x-python",
   "name": "python",
   "nbconvert_exporter": "python",
   "pygments_lexer": "ipython3",
   "version": "3.5.2"
  }
 },
 "nbformat": 4,
 "nbformat_minor": 2
}
